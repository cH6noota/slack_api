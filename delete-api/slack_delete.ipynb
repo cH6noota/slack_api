{
 "cells": [
  {
   "cell_type": "code",
   "execution_count": null,
   "id": "fdd4d045",
   "metadata": {},
   "outputs": [],
   "source": [
    "import requests\n",
    "from secret_key import *\n",
    "\n",
    "url = \"https://slack.com/api/conversations.history\" \n",
    "\n",
    "header={\n",
    "    \"Authorization\": \"Bearer {}\".format(token)\n",
    "}\n",
    "\n",
    "payload  = {\n",
    "    \"channel\" : \"C02642LDQ2Y\"\n",
    "    }\n",
    "\n",
    "res = requests.get(url, headers=header, params=payload)\n",
    "\n",
    "messages = res.json()[\"messages\"]\n",
    "messages "
   ]
  },
  {
   "cell_type": "code",
   "execution_count": null,
   "id": "da66d388",
   "metadata": {},
   "outputs": [],
   "source": [
    "def delete_message(ts):\n",
    "    url = \"https://slack.com/api/chat.delete\"\n",
    "    payload  = {\n",
    "        \"channel\" : \"C02642LDQ2Y\",\n",
    "        \"ts\" : ts\n",
    "    }\n",
    "    res = requests.post(url, headers=header, params=payload)\n",
    "    print(res.text)"
   ]
  },
  {
   "cell_type": "code",
   "execution_count": null,
   "id": "33538c04",
   "metadata": {},
   "outputs": [],
   "source": [
    "for i in messages :\n",
    "     delete_message(i[\"ts\"])"
   ]
  }
 ],
 "metadata": {
  "kernelspec": {
   "display_name": "Python 3 (ipykernel)",
   "language": "python",
   "name": "python3"
  },
  "language_info": {
   "codemirror_mode": {
    "name": "ipython",
    "version": 3
   },
   "file_extension": ".py",
   "mimetype": "text/x-python",
   "name": "python",
   "nbconvert_exporter": "python",
   "pygments_lexer": "ipython3",
   "version": "3.8.5"
  }
 },
 "nbformat": 4,
 "nbformat_minor": 5
}
